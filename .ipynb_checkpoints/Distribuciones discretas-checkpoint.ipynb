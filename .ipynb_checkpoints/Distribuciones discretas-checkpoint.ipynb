{
 "cells": [
  {
   "cell_type": "markdown",
   "metadata": {},
   "source": [
    "# 6,7,8\n",
    "# Distribuciones discretas (e.j. binomial)\n",
    "\n",
    "---\n",
    "\n",
    "\n",
    "\n",
    "Recordando que la distribución binomial está dada por: \n",
    "\n",
    "$$\n",
    "P(k, n; p) = {n \\choose k} p^k (1-p)^{n-k} = \\frac{n!}{k!(n-k)!}p^k (1-p)^{n-k}\n",
    "$$\n",
    "\n",
    "donde $P(k, n; p)$ representa la probabilidad de obtener $k$ éxitos de $n$ intentos con posibilidad **binaria** (por ejemplo, lanzamientos de moneda). \n",
    "\n",
    "`Ejemplo`: la probabilidad de obtener 4 caras a partir de 10 lanzamientos consecutivos de moneda, está dada por (tomando $p=0.5$, por lo tanto $1-p=0.5$): \n",
    "\n",
    "$$\n",
    "P(k=4, n=10; p=0.5) = {10 \\choose 4} \\left( \\frac{1}{2}\\right)^{10} = \\frac{10!}{4!6!} \\left( \\frac{1}{2}\\right)^{10}\n",
    "$$\n",
    "\n",
    "---\n",
    "\n",
    "Ahora, la probabilidad de obtener $k$ o menos éxitos a partir de $n$ intentos está dada por la distribución acumulada: \n",
    "\n",
    "$$\n",
    "C(k, n; p) = \\sum_{i=0}^k P(i, n;p) = \\sum_{i=0}^k {n \\choose i} p^i (1-p)^{n-i}\n",
    "$$ \n",
    "\n",
    "Por convención entendemos que:\n",
    "\n",
    "$$C(k=3,n=6;p=0.5) = P(k \\leq 3, n=6, p=0.5 )$$\n",
    "\n",
    "\n",
    "`Ejemplo`: la probabilidad de obtener 3 o menos caras a partir de 6 lanzamientos consecutivos está dada por (tomando $p=0.5$, por lo tanto $1-p=0.5$): \n",
    "\n",
    "$$P(k \\leq 3, n=6;p=0.5) = \\sum_{i=0}^3 {6 \\choose i} \\left(\\frac{1}{2} \\right)^6 $$\n",
    "\n",
    "$$P(k \\leq 3, n=6;p=0.5) = \\left(\\frac{1}{2} \\right)^6 \\sum_{i=0}^3 {6 \\choose i} $$\n",
    "\n",
    "$$P(k \\leq 3, n=6;p=0.5) = \\left(\\frac{1}{2} \\right)^6 \\left\\{ {6 \\choose 0} + {6 \\choose 1} + {6 \\choose 2} + {6 \\choose 3} \\right\\}$$\n"
   ]
  },
  {
   "cell_type": "markdown",
   "metadata": {},
   "source": [
    "# Ejercicios (bloque 1)\n",
    "\n",
    "Calcula a mano las siguientes probabilidades (tomando $p=0.5$, por lo tanto $1-p=0.5$):\n",
    "\n",
    "1. Probabilidad de obtener 3 caras a partir de 12 lanzamientos de moneda.\n",
    "\n",
    "2. Probabilidad de obtener 5 o menos caras a partir de 10 lanzamientos de moneda. \n",
    "\n",
    "3. Probabilidad de obtener menos de 6 caras a partir de 10 lanzamientos de moneda.\n",
    "\n",
    "Calcula a mano las mismas probabilidades anteriores pero considerando ahora $p=0.3$."
   ]
  },
  {
   "cell_type": "markdown",
   "metadata": {},
   "source": [
    "# Ejercicios (bloque 1)\n",
    "\n",
    "Calcula a mano las siguientes probabilidades (tomando $p=0.5$, por lo tanto $1-p=0.5$):\n",
    "\n",
    "1. Probabilidad de obtener 3 caras a partir de 12 lanzamientos de moneda.\n",
    "\n",
    "$P = 0.5$\n",
    "\n",
    "$K = 3$\n",
    "\n",
    "$n = 12$\n",
    "\n",
    "$$\\frac{12!}{3!(12-3)!}(0.5)^3 (1-0.5)^{12-3}=\\frac{12(11)(10)(9!)}{6(9)!}(0.125)(0.5)^9=\\frac{1320}6(0.125)(0.001953125)=220(0.125)(0.0019)= 0.05225$$\n",
    "\n",
    "\n",
    "2. Probabilidad de obtener 5 o menos caras a partir de 10 lanzamientos de moneda. \n",
    "\n",
    "$P = 0.5$\n",
    "\n",
    "$K = 5$\n",
    "\n",
    "$n = 10$\n",
    "\n",
    "$$\\frac{10!}{5!(5)!}(0.5)^5 (0.5)^{5}=\\frac{3628800}{120(120)}(0.03125)(0.03125)=0.2460$$\n",
    "\n",
    "-----------\n",
    "$$K=4$$\n",
    "\n",
    "$$\\frac{10!}{4!(10-4)!}(0.5)^4 (0.5)^{6}=\\frac{3628800}{24(720)}(0.0625)(0.015625)=\\frac{3628800}{17280}(\\frac{1}{1024})=0.2050$$\n",
    "\n",
    "-----------\n",
    "$$K=3$$\n",
    "\n",
    "$$\\frac{10!}{3!(10-3)!}(0.5)^3 (0.5)^{7}=\\frac{10(9)(8)(7!)}{6(7)!}(0.125)(0.0078125)=120(0.125)(0.0078125)=0.1171875$$\n",
    "\n",
    "-----------\n",
    "$$K=2$$\n",
    "\n",
    "$$\\frac{10!}{2!(10-2)!}(0.5)^2 (0.5)^{8}=\\frac{10(9)(8!)}{2(8)!}(0.25)(0.00390625)=\\frac{45}{1/1024}=0.04394$$\n",
    "\n",
    "----------\n",
    "$$K=1$$\n",
    "\n",
    "$$\\frac{10!}{1!(10-1)!}(0.5)^1 (0.5)^{9}=\\frac{10(9!)}{1(9)!}(0.5)(1/512)=0.009765625$$\n",
    "\n",
    "----------\n",
    "$$K=0$$\n",
    "\n",
    "$$\\frac{10!}{0!(10-0)!}(0.5)^0 (0.5)^{10}=0.0009765625$$\n",
    "\n",
    "---------- \n",
    " $$\\sum_{i=0}^5= 0.6228696875$$\n",
    "\n",
    "-----------\n",
    "3. Probabilidad de obtener menos de 6 caras a partir de 10 lanzamientos de moneda.\n",
    "\n",
    " Este es el mismo resultado que el anterior ya que en este enunciado no se especifica menor o IGUAL a 6, solo se dice que sea menor a 6, asi que el rango de probabilidades es de 0 a 5.\n",
    "\n",
    "Calcula a mano las mismas probabilidades anteriores pero considerando ahora $p=0.3$.\n",
    "\n",
    "\n",
    "$P = 0.3$\n",
    "\n",
    "$K = 5$\n",
    "\n",
    "$n = 10$\n",
    "\n",
    "$$\\frac{10!}{5!(5)!}(0.3)^5 (0.7)^{5}=\\frac{10(9)(8)(7)(6)(5!)}{120(5)!}=\\frac{30240}{120}(0.0004084101)=0.1029193452$$\n",
    "\n",
    "-----------\n",
    "$$K=4$$\n",
    "\n",
    "$$\\frac{10!}{4!(6)!}(0.3)^4 (0.5)^{6}=\\frac{10(9)(8)(7)(6!)}{24(6!)}(0.0081)(0.117649)=\\frac{5040}{24}({0.0081}){0.117649})=0.200120949$$\n",
    "\n",
    "-----------\n",
    "$$K=3$$\n",
    "\n",
    "$$\\frac{10!}{3!(7)!}(0.3)^3 (0.7)^{7}=\\frac{10(9)(8)(7!)}{6(7)!}(0.027)(0.0823543)=120(0.027)(0.0823543)=0.266827932$$\n",
    "\n",
    "-----------\n",
    "$$K=2$$\n",
    "\n",
    "$$\\frac{10!}{2!(8)!}(0.3)^2 (0.7)^{8}=\\frac{10(9)(8!)}{2(8)!}(0.09)(0.05764801)=0.233474$$\n",
    "\n",
    "----------\n",
    "$$K=1$$\n",
    "\n",
    "$$\\frac{10!}{1!(9)!}(0.3)^1 (0.7)^{9}=\\frac{10(9!)}{1(9)!}(0.3)(0.040353607)=0.1201060821$$\n",
    "\n",
    "----------\n",
    "$$K=0$$\n",
    "\n",
    "$$\\frac{10!}{0!(10-0)!}(0.3)^0 (0.7)^{10}=0.0282475249$$\n",
    "\n",
    "----------\n",
    " $$\\sum_{i=0}^5= 0.623046875$$"
   ]
  },
  {
   "cell_type": "code",
   "execution_count": 2,
   "metadata": {},
   "outputs": [],
   "source": [
    "# definición de la distribución binomial \n",
    "from math import factorial # Esta libreria permite importar muchas funciones matematicas\n",
    "def my_binomial(k, n, p):\n",
    "  return factorial(n)/(factorial(k)*(factorial(n-k)))*pow(p,k)*pow(1-p, n-k)"
   ]
  },
  {
   "cell_type": "code",
   "execution_count": 3,
   "metadata": {},
   "outputs": [
    {
     "data": {
      "text/plain": [
       "0.0537109375"
      ]
     },
     "execution_count": 3,
     "metadata": {},
     "output_type": "execute_result"
    }
   ],
   "source": [
    "#1. Probabilidad de obtener 3 caras a partir de 12 lanzamientos de moneda.\n",
    "my_binomial(3,12,0.5)"
   ]
  },
  {
   "cell_type": "markdown",
   "metadata": {},
   "source": [
    "Usando la función `my_binomial()`, definida previamente, verifica el cálculo de todas las probabilidades del punto anterior.\n",
    "\n",
    "Ejemplo:\n",
    "\n",
    "$$P(k \\leq 3, n=6, p=0.5)$$\n",
    "\n",
    "Se traduce en :\n",
    "\n",
    "```python\n",
    "total = 0\n",
    "for n in range(4):\n",
    "  total += my_binomial(i,6,0.5)\n",
    "\n",
    "print(total) \n",
    "```"
   ]
  },
  {
   "cell_type": "code",
   "execution_count": 5,
   "metadata": {},
   "outputs": [
    {
     "name": "stdout",
     "output_type": "stream",
     "text": [
      "0.65625\n"
     ]
    }
   ],
   "source": [
    "total = 0\n",
    "for n in range(4):\n",
    "  total += my_binomial(n,6,0.5)\n",
    " \n",
    "print(total) "
   ]
  },
  {
   "cell_type": "code",
   "execution_count": 6,
   "metadata": {},
   "outputs": [
    {
     "name": "stdout",
     "output_type": "stream",
     "text": [
      "0.623046875\n"
     ]
    }
   ],
   "source": [
    "#2. Probabilidad de obtener 5 o menos caras a partir de 10 lanzamientos de moneda.\n",
    "# escribe tu codigo aquí:\n",
    "total_sum = 0\n",
    "for t in range(6):\n",
    "  total_sum += my_binomial(t,10,.5)\n",
    "\n",
    "print(total_sum)\n"
   ]
  },
  {
   "cell_type": "code",
   "execution_count": 7,
   "metadata": {},
   "outputs": [
    {
     "name": "stdout",
     "output_type": "stream",
     "text": [
      "0.623046875\n"
     ]
    }
   ],
   "source": [
    "# Calcula a mano las mismas probabilidades anteriores pero considerando ahora $p=0.3$.\n",
    "total_sum2 = 0\n",
    "for t2 in range(6):\n",
    "  total_sum2 += my_binomial(t2,10,.5)\n",
    "\n",
    "print(total_sum)"
   ]
  }
 ],
 "metadata": {
  "kernelspec": {
   "display_name": "Python 3",
   "language": "python",
   "name": "python3"
  },
  "language_info": {
   "codemirror_mode": {
    "name": "ipython",
    "version": 3
   },
   "file_extension": ".py",
   "mimetype": "text/x-python",
   "name": "python",
   "nbconvert_exporter": "python",
   "pygments_lexer": "ipython3",
   "version": "3.7.3"
  }
 },
 "nbformat": 4,
 "nbformat_minor": 2
}
