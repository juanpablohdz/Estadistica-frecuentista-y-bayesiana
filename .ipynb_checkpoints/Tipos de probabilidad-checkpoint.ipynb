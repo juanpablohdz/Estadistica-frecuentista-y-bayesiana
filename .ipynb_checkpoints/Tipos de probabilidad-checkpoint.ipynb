{
 "cells": [
  {
   "cell_type": "markdown",
   "metadata": {},
   "source": [
    "# 3,4,5\n",
    "# Tipos de probabilidad (revisión de conceptos)\n",
    "\n",
    "Según lo visto en clase, tenemos tres tipos de probabilidad a definir. Sean A y B dos eventos aleatorios diferentes, entonces:\n",
    "\n",
    "---\n",
    "\n",
    "`Probabilidad conjunta`: sean $A$ y $B$ dos eventos aleatorios diferentes, definimos la probabilidad conjunta de que ambos eventos ocurran por medio de la regla del producto: \n",
    "\n",
    "$$P(A, B) = P(A|B)P(B)$$\n",
    "\n",
    "donde $P(A|B)$ se define como la `probabilidad condicional` de que ocurra A dado B, y $P(B)$ es la probabilidad de que ocurra B (sin conocimiento extra de otras variables).\n",
    "\n",
    "---\n",
    "\n",
    "`Probabilidad marginal`: la probabilidad marginal de A sobre una distribución conjunta de probabilidades en A y B, se define como la suma de todas las probabilidades conjuntas $P(A, B)$ considerando todos los posibles valores de B: \n",
    "\n",
    "$$P(A) = \\sum_{B=b} P(A,B) = \\sum_{B=b} P(A|B) P(B)$$\n"
   ]
  },
  {
   "cell_type": "markdown",
   "metadata": {},
   "source": [
    "# Ejercicios (bloque 1)\n",
    "\n",
    "Considerando un lanzamiento de un dado y considerando los siguientes eventos aleatorios: \n",
    "\n",
    "A = {el resultado del lanzamiento de un dado es 6}\n",
    "\n",
    "B = {el resultado del lanzamiento de un dado es par}\n",
    "\n",
    "C = {el resultado del lanzamiento de un dado es impar}\n",
    "\n",
    "calcula las siguientes probabilidades: \n",
    "\n",
    "1. $P(A|B) = ?$\n",
    "2. $P(A|C) = ?$\n",
    "3. $P(B|C) = ?$\n"
   ]
  },
  {
   "cell_type": "code",
   "execution_count": 48,
   "metadata": {},
   "outputs": [],
   "source": [
    "import numpy as np\n",
    "from numpy.random import binomial\n",
    "from scipy.stats import binom\n",
    "from math import factorial\n",
    "\n",
    "def condicional(A,B):\n",
    "    \n",
    "   #probabilidad condicional \n",
    "    return  (A/B)"
   ]
  },
  {
   "cell_type": "code",
   "execution_count": 6,
   "metadata": {},
   "outputs": [
    {
     "name": "stdout",
     "output_type": "stream",
     "text": [
      "mi resultado es 0.16666666666666666\n",
      "mi resultado es 0.3333333333333333\n",
      "mi resultado es 0.0\n"
     ]
    }
   ],
   "source": [
    "print (\"mi resultado es\", condicional(1,6))\n",
    "print (\"mi resultado es\", condicional(1,3))\n",
    "print (\"mi resultado es\", condicional(0,3))"
   ]
  },
  {
   "cell_type": "markdown",
   "metadata": {},
   "source": [
    "# Ejercicios (bloque 2)\n",
    "\n",
    "Considerando una ruleta de doce números \n",
    "\n",
    "{$1,2,3,4,5,6,7,8,9,10,11,12$} \n",
    "\n",
    "dos jugadores eligen 6 números, cada uno de ellos. Supón que el jugador 1 elige A = {$1,2,3,4,5,6$} y calcula las siguientes probabilidades: \n",
    "\n",
    "1. $P(A|B)$ sabiendo que el jugador 2 elige B = {$2,4,6,8,10,12$}\n",
    "2. $P(A|B)$ sabiendo que el jugador 2 elige B = {$1,3,5,7,9,11$}\n",
    "3. $P(A|B)$ sabiendo que el jugador 2 elige B = {$5,6,7,8,9,10$}"
   ]
  },
  {
   "cell_type": "code",
   "execution_count": 3,
   "metadata": {},
   "outputs": [
    {
     "name": "stdout",
     "output_type": "stream",
     "text": [
      "[5, 0, 6, 4, 3, 2, 1]\n",
      "[9, 12, 11, 8, 10, 7]\n",
      "[14, 12, 17, 12, 13, 9, 1]\n"
     ]
    }
   ],
   "source": [
    "#probabilidad marginal\n",
    "import random\n",
    "jugador1=[0,1,2,3,4,5,6]\n",
    "random.shuffle(jugador1)\n",
    "jugador2 = [7,8,9,10,11,12]\n",
    "random.shuffle (jugador2)\n",
    "resultado = []\n",
    "print(jugador1)\n",
    "print(jugador2)\n",
    "for i in range(len(jugador1)):\n",
    "  resultado.append(jugador1[i])\n",
    "\n",
    "for i in range(len(jugador2)):\n",
    "  resultado[i] = resultado[i] + jugador2[i]\n",
    "\n",
    "print(resultado)"
   ]
  },
  {
   "cell_type": "markdown",
   "metadata": {},
   "source": [
    "# Ejercicios (bloque 3)\n",
    "\n",
    "Considera un problema donde se lanzan dos monedas, sean $m_1$ y $m_2$. Verifica la regla del producto para las siguientes probabilidades (dibuja el espacio muestral y calcula cada probabilidad por separado): \n",
    "1. $P(m_1 = \\text{cara}, m_2 = \\text{sello})$\n",
    "2. $P(m_1 = \\text{cara} | m_2 = \\text{sello})$\n",
    "3. $P(m_2 = \\text{sello})$"
   ]
  },
  {
   "cell_type": "code",
   "execution_count": 59,
   "metadata": {},
   "outputs": [],
   "source": [
    "#l lanzamientos\n",
    "def producto(m1,m2):\n",
    "  return (m1/m2)*(m1)"
   ]
  },
  {
   "cell_type": "code",
   "execution_count": 78,
   "metadata": {},
   "outputs": [
    {
     "name": "stdout",
     "output_type": "stream",
     "text": [
      "probabilidad de espacio muestreal 0.25\n",
      "resultado de la regla del producto  0.5\n",
      "resultado de lanzar 1 moneda caiga sello o cara 0.5\n"
     ]
    }
   ],
   "source": [
    "print (\"probabilidad de espacio muestreal\", producto(1,4))\n",
    "print (\"resultado de la regla del producto \", producto(1,2))\n",
    "print (\"resultado de lanzar 1 moneda caiga sello o cara\", producto(1,2))"
   ]
  }
 ],
 "metadata": {
  "kernelspec": {
   "display_name": "Python 3",
   "language": "python",
   "name": "python3"
  },
  "language_info": {
   "codemirror_mode": {
    "name": "ipython",
    "version": 3
   },
   "file_extension": ".py",
   "mimetype": "text/x-python",
   "name": "python",
   "nbconvert_exporter": "python",
   "pygments_lexer": "ipython3",
   "version": "3.7.3"
  }
 },
 "nbformat": 4,
 "nbformat_minor": 2
}
