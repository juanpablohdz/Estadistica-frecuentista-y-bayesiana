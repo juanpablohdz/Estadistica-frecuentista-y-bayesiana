{
 "cells": [
  {
   "cell_type": "markdown",
   "metadata": {},
   "source": [
    "# 9,10\n",
    "# Distribuciones continuas (e.j. gaussiana)\n",
    "\n",
    "Recordemos que la distribución de probabilidad normal o gaussiana está dada por: \n",
    "\n",
    "$$P(X) = \\frac{1}{\\sigma \\sqrt{2 \\pi}} \\exp{\\left[-\\frac{1}{2}\\left(\\frac{X-\\mu}{\\sigma} \\right)^2 \\right]}$$\n",
    "\n",
    "donde:\n",
    "\n",
    "* $\\mu$: media de la distribución\n",
    "* $\\sigma$: desviación estandar de la distribución\n",
    "\n",
    "`Ejemplo`: considerando una variable aleatoria que sigue una distribución normal con media $\\mu=4$ y desviación estándar $\\sigma=0.3$, la probabilidad de que dicha variable tome el valor de $0.2$ está dada por: \n",
    "\n",
    "$$P(0.2) =  \\frac{1}{0.3 \\sqrt{2 \\pi}} \\exp{\\left[-\\frac{1}{2}\\left(\\frac{0.2-4}{0.3} \\right)^2 \\right]}$$\n",
    "\n",
    "Lo cual en Python se traduce en: \n",
    "\n",
    "```python\n",
    "from scipy.stats import norm\n",
    "\n",
    "norm(mu, sigma).pdf(X)\n",
    "```\n",
    "\n",
    "---\n",
    "\n",
    "Así también, la distribucion de probabilidad acumulada correspondiente está dada por: \n",
    "\n",
    "$$C(X) = \\int_{x<=X} P(x)dx = \\int_{- \\infty}^xP(X)dX $$\n",
    "\n",
    "teniendo en cuenta que $Dom(X) = (-\\infty, \\infty)$. \n",
    "\n",
    "`Ejemplo`: considerando una variable aleatoria que sigue una distribucion normal con media $\\mu=4$ y desviación estándar $\\sigma=0.3$, la probabilidad de que dicha variable tome el valor de $0.2$ o menos está dada por:\n",
    "\n",
    "$$C(0.2) = \\int_{x<=0.2} P(x)dx = \\int_{- \\infty}^{0.2}  \\left\\{\\frac{1}{0.3 \\sqrt{2 \\pi}} \\exp{\\left[-\\frac{1}{2}\\left(\\frac{X-4}{0.3} \\right)^2 \\right]} \\right\\} dX $$\n",
    "\n",
    "La cual se calcula en Python como: \n",
    "\n",
    "```python \n",
    "from scipy.stats import norm\n",
    "\n",
    "norm(mu, sigma).cdf(X)\n",
    "```\n",
    "\n",
    "_**Es importante recordar que la función de probabilidad acumulada de la distribución gaussiana no se puede calcular de forma exacta, ya que la integral anterior no tiene una expresión cerrada conocida. Es decir, los métodos de integración conocidos no funcionan para resolver esta integral.**_"
   ]
  },
  {
   "cell_type": "markdown",
   "metadata": {},
   "source": [
    "# Ejercicios (bloque 1)\n",
    "\n",
    "Considerando una variable aleatoria que sigue una distribución normal con media $\\mu=4$ y desviación estándar $\\sigma=0.1$, calcula las siguientes probabilidades (usando Python):\n",
    "\n",
    "1. $P(X=4)$\n",
    "2. $P(X=-10)$\n",
    "3. $P(X=10)$\n",
    "4. $P(X<=4)$\n",
    "6. $P(X>=4)$\n"
   ]
  },
  {
   "cell_type": "code",
   "execution_count": 2,
   "metadata": {},
   "outputs": [],
   "source": [
    "import pandas as pd \n",
    "import numpy as np\n",
    "import matplotlib.pyplot as plt \n",
    "from math import pi\n",
    "from scipy.stats import  norm\n",
    "\n",
    "\n",
    "def gaussian(x,mu,sigma):\n",
    "    return 1/(sigma*np.sqrt(2*np.pi))*np.exp(-0.5*pow((x-mu)/sigma,2) )"
   ]
  },
  {
   "cell_type": "code",
   "execution_count": 3,
   "metadata": {},
   "outputs": [
    {
     "data": {
      "text/plain": [
       "[<matplotlib.lines.Line2D at 0x2a3360e69b0>]"
      ]
     },
     "execution_count": 3,
     "metadata": {},
     "output_type": "execute_result"
    },
    {
     "data": {
      "image/png": "[encoded data removed]",
      "text/plain": [
       "<Figure size 432x288 with 1 Axes>"
      ]
     },
     "metadata": {
      "needs_background": "light"
     },
     "output_type": "display_data"
    }
   ],
   "source": [
    "x=np.arange(0,10,0.1)\n",
    "y=gaussian(x,4,0.1)\n",
    "plt.plot(x,y) "
   ]
  },
  {
   "cell_type": "markdown",
   "metadata": {},
   "source": [
    "_**Con respecto a las lecturas 9-10, en los primeros ejercicios las respuestas son las siguientes:\n",
    "$$1.P(x=4)=0$$, muchos creerán que la respuesta sería el output de la función norm(4,0.1).pdf(4), la cual es 3.98, lo cual es falso, ya que ninguna probabilidad puede ser mayor a 1, lo que nos da esta función es el valor que toma la función de densidad, y al tratarse de una distribución de probabilidad continua, cuando se usa un número específico, la probabilidad es 0, dada la siguiente explicación los resultados siguientes son:\n",
    "$$ 2.P(x=-10)=0$$\n",
    "$$3.P(x=10)$$\n",
    "$$4.P(x<=4)=0.5$$, esta al contrario de las anteriores, sí se resuelve con la función de distribución acumulada, la cual es norm(4,0.1).cdf(4)\n",
    "$$5.P(x>=4)=0.5$$ y se resuelve de la siguiente forma: 1-norm(4,0.1).cdf(4)\n",
    "Con respecto al siguiente ejercicio, es un poco más complicado.\n",
    "La forma en que yo lo resolví, es editando la función generate_binomial_trials para que nos retorne el arreglo, que utiliza para generar el histograma, de la siguiente forma:**_"
   ]
  },
  {
   "cell_type": "code",
   "execution_count": 4,
   "metadata": {},
   "outputs": [
    {
     "name": "stdout",
     "output_type": "stream",
     "text": [
      "1.-el resultado esta operacion es  3.989422804014327 0.5\n",
      "2.-el resultado esta operacion es  0.0\n",
      "3.-el resultado esta operacion es  0.0\n",
      "4.-el resultado esta operacion es  3.989422804014327 0.5\n",
      "5.-el resultado esta operacion es  5.5209483621597635e-87 0.5\n"
     ]
    }
   ],
   "source": [
    "#ponemos  el primer resultado y el segundo para comparar los falsos y verdaderos\n",
    "print(\"1.-el resultado esta operacion es \",gaussian(4,4,0.1),norm(4,0.1).cdf(4))\n",
    "print(\"2.-el resultado esta operacion es \",gaussian(-10,4,0.1))\n",
    "print(\"3.-el resultado esta operacion es \",gaussian(10,4,0.1))\n",
    "print(\"4.-el resultado esta operacion es \",gaussian(4,4,0.1),norm(4,0.1).cdf(4))\n",
    "print(\"5.-el resultado esta operacion es \",gaussian(6,4,0.1),1-norm(4,0.1).cdf(4))"
   ]
  },
  {
   "cell_type": "markdown",
   "metadata": {},
   "source": [
    "# De la binomial a la gaussiana\n",
    "\n",
    "En la clase 8 vimos como generar secuencias aleatorias de experimentos binomiales ([aquí](https://colab.research.google.com/drive/1MR9VZg19vHyZhvWWuxtNcy_3PZQ7AfwW?usp=sharing)), donde cada experimento era lanzar un cierto número de monedas. \n",
    "\n",
    "**¿Qué sucede si el número consecutivo de monedas que lanzamos en cada experimento (trial) es muy largo?**\n",
    "\n",
    "La función `generate_binomial_trials()` nos muestra lo que sucede si graficamos los resultados de muchos experimentos de lanzar 100 monedas en cada intento, con pyplot: "
   ]
  },
  {
   "cell_type": "code",
   "execution_count": 5,
   "metadata": {},
   "outputs": [
    {
     "data": {
      "text/plain": [
       "<BarContainer object of 45 artists>"
      ]
     },
     "execution_count": 5,
     "metadata": {},
     "output_type": "execute_result"
    },
    {
     "data": {
      "image/png": "[encoded data removed]",
      "text/plain": [
       "<Figure size 432x288 with 1 Axes>"
      ]
     },
     "metadata": {
      "needs_background": "light"
     },
     "output_type": "display_data"
    }
   ],
   "source": [
    "import numpy as np\n",
    "from numpy.random import binomial\n",
    "import matplotlib.pyplot as plt\n",
    "\n",
    "def generate_binomial_trials(trials=1000, coin_toss=100):\n",
    "  '''\n",
    "  el resultado de esta funcion es generar un conjuntos \n",
    "  de experimentos binomiales (trials) y de cada uno obtener \n",
    "  las cantidades de exitos en cada secuencia (e.j. lanzar monedas).\n",
    "\n",
    "  * trial: es una secuencia de <coin_toss> lanzamientos de moneda\n",
    "\n",
    "  * coin_toss: es el numero de monedas lanzadas en cada trial\n",
    "  '''\n",
    "\n",
    "\n",
    "  arr = []\n",
    "  for _ in range(trials):\n",
    "    arr.append(binomial(coin_toss, 0.5))\n",
    "  values, dist = np.unique(arr, return_counts=True)\n",
    "\n",
    "  return values, dist\n",
    "\n",
    "values, dist = generate_binomial_trials(100000)\n",
    "plt.bar(values, dist)"
   ]
  },
  {
   "cell_type": "markdown",
   "metadata": {},
   "source": [
    "¿Se parece a algo conocido? Tal vez una ditribución normal se ajuste, para verificarlo haremos el siguiente ejercicio: \n",
    "\n",
    "# Ejercicios (bloque 2)\n",
    "\n",
    "1. Con los resultados anteriores guardados en `values, dist` ajusta, usando el método de estimación paramétrica, una distribución gaussiana donde la media y desviación estándar correspondan a lo calculado a partir de los datos, de la misma manera que se hizo en el notebook de la clase 9 ([aquí](https://colab.research.google.com/drive/1weFtkmxdn_WnGW582Xugj9t7Mjzxis5b?usp=sharing))."
   ]
  },
  {
   "cell_type": "code",
   "execution_count": 6,
   "metadata": {},
   "outputs": [
    {
     "data": {
      "image/png": "[encoded data removed]",
      "text/plain": [
       "<Figure size 432x288 with 1 Axes>"
      ]
     },
     "metadata": {
      "needs_background": "light"
     },
     "output_type": "display_data"
    }
   ],
   "source": [
    "def generate_binomial_trials(trials=1000, coin_toss=100):\n",
    "  arr = []\n",
    "  for _ in range(trials):\n",
    "    arr.append(binomial(coin_toss, 0.5))\n",
    "  values, dist = np.unique(arr, return_counts=True)\n",
    "\n",
    "  return values, dist,arr\n",
    "\n",
    "values, dist, arr= generate_binomial_trials(100000)\n",
    "\n",
    "#ajuste de datos a campana gaussiana \n",
    "arr = np.array(arr)\n",
    "mu = arr.mean()\n",
    "sigma = arr.std()\n",
    "\n",
    "dist = norm(mu, sigma)\n",
    "x = np.arange(25,75,0.1)#25,75,0.1\n",
    "y = [dist.pdf(value) for value in x]\n",
    "\n",
    "\n",
    "#distribución teórica\n",
    "plt.plot(x, y)\n",
    "\n",
    "# datos\n",
    "values, dist = np.unique(arr, return_counts=True)\n",
    "plt.bar(values, dist/len(arr))\n",
    "plt.show()"
   ]
  },
  {
   "cell_type": "markdown",
   "metadata": {},
   "source": [
    "# otros 2 tipo de sulucion"
   ]
  },
  {
   "cell_type": "code",
   "execution_count": 7,
   "metadata": {},
   "outputs": [
    {
     "data": {
      "text/plain": [
       "<BarContainer object of 42 artists>"
      ]
     },
     "execution_count": 7,
     "metadata": {},
     "output_type": "execute_result"
    },
    {
     "data": {
      "image/png": "[encoded data removed]",
      "text/plain": [
       "<Figure size 432x288 with 1 Axes>"
      ]
     },
     "metadata": {
      "needs_background": "light"
     },
     "output_type": "display_data"
    }
   ],
   "source": [
    "\n",
    "# Sabiendo que la distribución es binomial, podemos calcular la media y desviación estandar de la siguiente manera\n",
    "# mu = número de intentos (coin_toss) * p\n",
    "# sigma = math.sqrt(coin_toss*p*(1-p))\n",
    "# Fuente: https://stats.libretexts.org/Bookshelves/Introductory_Statistics/Book%3A_Statistics_Using_Technology_(Kozak)/05%3A_Discrete_Probability_Distributions/5.03%3A_Mean_and_Standard_Deviation_of_Binomial_Distribution\n",
    "\n",
    "mu = 100 * 0.5\n",
    "sigma = (100*0.5**2)**0.5\n",
    "normal = norm(mu, sigma)\n",
    "\n",
    "X = np.arange(30,70,0.1)\n",
    "Y = [normal.pdf(x) for x in X]\n",
    "\n",
    "plt.plot(X, Y)                                                                       \n",
    "plt.bar(values, dist/100000)"
   ]
  },
  {
   "cell_type": "code",
   "execution_count": 8,
   "metadata": {},
   "outputs": [
    {
     "data": {
      "text/plain": [
       "<BarContainer object of 42 artists>"
      ]
     },
     "execution_count": 8,
     "metadata": {},
     "output_type": "execute_result"
    },
    {
     "data": {
      "image/png": "[encoded data removed]",
      "text/plain": [
       "<Figure size 432x288 with 1 Axes>"
      ]
     },
     "metadata": {
      "needs_background": "light"
     },
     "output_type": "display_data"
    }
   ],
   "source": [
    "# Otra solución, en caso de que no tengamos la certeza de que la distribución es efectivamente binomial\n",
    "# Para esto toca modificar la función original para que retorne el los datos completos\n",
    "\n",
    "mu = arr.mean()\n",
    "sigma = arr.std()\n",
    "normal = norm(mu, sigma)\n",
    "\n",
    "X = np.arange(30,70,0.1)\n",
    "Y = [normal.pdf(x) for x in X]\n",
    "\n",
    "plt.plot(X, Y)\n",
    "plt.bar(values, dist/len(arr))"
   ]
  },
  {
   "cell_type": "markdown",
   "metadata": {},
   "source": [
    "Si todo salió bien, habrás notado que en efecto una distribución normal se ajusta perfectamente a los datos. Esto se conoce como el **teorema del límite central**, el cual establece que en muchas situaciones conocidas, cuando variables aleatorias independientes se combinan, su total tiende a seguir una distribución normal cuando el número de variables que se combinan es muy grande $n \\rightarrow \\infty$. "
   ]
  }
 ],
 "metadata": {
  "kernelspec": {
   "display_name": "Python 3",
   "language": "python",
   "name": "python3"
  },
  "language_info": {
   "codemirror_mode": {
    "name": "ipython",
    "version": 3
   },
   "file_extension": ".py",
   "mimetype": "text/x-python",
   "name": "python",
   "nbconvert_exporter": "python",
   "pygments_lexer": "ipython3",
   "version": "3.7.3"
  }
 },
 "nbformat": 4,
 "nbformat_minor": 2
}
